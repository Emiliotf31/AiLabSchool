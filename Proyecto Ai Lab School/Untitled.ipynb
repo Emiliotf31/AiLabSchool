{
 "cells": [
  {
   "cell_type": "code",
   "execution_count": 1,
   "id": "418cb870",
   "metadata": {},
   "outputs": [
    {
     "name": "stdout",
     "output_type": "stream",
     "text": [
      "Escribe algo\n",
      "Hola\n"
     ]
    },
    {
     "data": {
      "text/plain": [
       "'Hola.csv'"
      ]
     },
     "execution_count": 1,
     "metadata": {},
     "output_type": "execute_result"
    }
   ],
   "source": [
    "x=input(\"Escribe algo\\n\")\n",
    "resp=x+\".csv\"\n",
    "resp"
   ]
  },
  {
   "cell_type": "code",
   "execution_count": 2,
   "id": "e2885748",
   "metadata": {},
   "outputs": [
    {
     "data": {
      "text/plain": [
       "[['user', 'password'],\n",
       " ['Shiavo', '8917929aa'],\n",
       " ['Cañedo', 'Ailab'],\n",
       " ['Popa', '7823a1'],\n",
       " ['Pepe', 'af3541a'],\n",
       " ['Juan', '78272sa'],\n",
       " ['Carlos', 'fsdfadsf'],\n",
       " ['Francisco', 'fdfs'],\n",
       " ['José', 'fsfsaf'],\n",
       " ['Emelio', '5454s'],\n",
       " ['Mikey', 'asak1'],\n",
       " ['Erich', '898912']]"
      ]
     },
     "execution_count": 2,
     "metadata": {},
     "output_type": "execute_result"
    }
   ],
   "source": [
    "database = [\"user,password\".split(','),\n",
    "         \"Shiavo,8917929aa\".split(','),\n",
    "         \"Cañedo,Ailab\".split(','),\n",
    "         \"Popa,7823a1\".split(','),\n",
    "         \"Pepe,af3541a\".split(','),\n",
    "         \"Juan,78272sa\".split(','),\n",
    "         \"Carlos,fsdfadsf\".split(','),\n",
    "         \"Francisco,fdfs\".split(','),\n",
    "         \"José,fsfsaf\".split(','),\n",
    "         \"Emelio,5454s\".split(','),\n",
    "         \"Mikey,asak1\".split(','),\n",
    "         \"Erich,898912\".split(',')]\n",
    "database"
   ]
  },
  {
   "cell_type": "code",
   "execution_count": 6,
   "id": "033ac9c9",
   "metadata": {},
   "outputs": [
    {
     "data": {
      "text/plain": [
       "[['contraseña', 'personaje', 'nivel']]"
      ]
     },
     "execution_count": 6,
     "metadata": {},
     "output_type": "execute_result"
    }
   ],
   "source": [
    "database = [\"contraseña,personaje,nivel\".split(',')]\n",
    "database"
   ]
  },
  {
   "cell_type": "markdown",
   "id": "d8039378",
   "metadata": {},
   "source": [
    "# LEER UN SOLO DATO DESDE CSV"
   ]
  },
  {
   "cell_type": "code",
   "execution_count": 54,
   "id": "5511200f",
   "metadata": {},
   "outputs": [],
   "source": [
    "import csv\n",
    "import pandas as pd"
   ]
  },
  {
   "cell_type": "code",
   "execution_count": 55,
   "id": "4b593f4e",
   "metadata": {},
   "outputs": [],
   "source": [
    "def escribir_csv(data, path=\"./ejemplo\"):\n",
    "    with open(path, \"w\") as file:\n",
    "        escritor = csv.writer(file)\n",
    "        escritor.writerows(data)\n",
    "    print(\"File stored with success\")\n",
    "    \n",
    "def leer_csv(path=\"./ejemplo.csv\"):\n",
    "    arreglo = []\n",
    "    with open(path) as archivo:\n",
    "        lector = csv.reader(archivo, delimiter=\",\", quotechar=\",\", quoting=csv.QUOTE_MINIMAL)\n",
    "        for renglon in lector:\n",
    "            if renglon != \"\":\n",
    "                arreglo.append(renglon)\n",
    "    return arreglo"
   ]
  },
  {
   "cell_type": "code",
   "execution_count": 56,
   "id": "c11c068f",
   "metadata": {},
   "outputs": [],
   "source": [
    "database = [\"user,password\".split(','),\n",
    "         \"Shiavo,8917929aa\".split(','),\n",
    "         \"Cañedo,Ailab\".split(','),\n",
    "         \"Popa,7823a1\".split(','),\n",
    "         \"Pepe,af3541a\".split(','),\n",
    "         \"Juan,78272sa\".split(','),\n",
    "         \"Carlos,fsdfadsf\".split(','),\n",
    "         \"Francisco,fdfs\".split(','),\n",
    "         \"José,fsfsaf\".split(','),\n",
    "         \"Emelio,5454s\".split(','),\n",
    "         \"Mikey,asak1\".split(','),\n",
    "         \"Erich,898912\".split(',')]"
   ]
  },
  {
   "cell_type": "code",
   "execution_count": 57,
   "id": "d0bee8ed",
   "metadata": {},
   "outputs": [
    {
     "name": "stdout",
     "output_type": "stream",
     "text": [
      "File stored with success\n"
     ]
    }
   ],
   "source": [
    "escribir_csv(database, path=\"./Registros_usuarios/fakeBd.csv\")"
   ]
  },
  {
   "cell_type": "code",
   "execution_count": 58,
   "id": "ca0cc3a6",
   "metadata": {},
   "outputs": [
    {
     "data": {
      "text/plain": [
       "'1'"
      ]
     },
     "execution_count": 58,
     "metadata": {},
     "output_type": "execute_result"
    }
   ],
   "source": [
    "loadedData = leer_csv(path=\"./Registros_usuarios/Emilio.csv\")[2][0]\n",
    "loadedData"
   ]
  },
  {
   "cell_type": "code",
   "execution_count": 59,
   "id": "c09d4dc4",
   "metadata": {},
   "outputs": [
    {
     "data": {
      "text/plain": [
       "'./Registros_usuarios/ola.csv'"
      ]
     },
     "execution_count": 59,
     "metadata": {},
     "output_type": "execute_result"
    }
   ],
   "source": [
    "x=\"ola\"\n",
    "data=x+\".csv\"\n",
    "direc=\"./Registros_usuarios/\"+data\n",
    "direc"
   ]
  },
  {
   "cell_type": "code",
   "execution_count": null,
   "id": "984b5585",
   "metadata": {},
   "outputs": [],
   "source": []
  }
 ],
 "metadata": {
  "kernelspec": {
   "display_name": "Python 3",
   "language": "python",
   "name": "python3"
  },
  "language_info": {
   "codemirror_mode": {
    "name": "ipython",
    "version": 3
   },
   "file_extension": ".py",
   "mimetype": "text/x-python",
   "name": "python",
   "nbconvert_exporter": "python",
   "pygments_lexer": "ipython3",
   "version": "3.8.8"
  }
 },
 "nbformat": 4,
 "nbformat_minor": 5
}
