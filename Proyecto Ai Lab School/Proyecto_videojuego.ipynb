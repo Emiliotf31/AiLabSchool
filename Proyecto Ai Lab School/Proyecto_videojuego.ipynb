{
 "cells": [
  {
   "cell_type": "code",
   "execution_count": 43,
   "id": "1d7c79d3",
   "metadata": {},
   "outputs": [],
   "source": [
    "from tkinter import *\n",
    "import csv"
   ]
  },
  {
   "cell_type": "code",
   "execution_count": 44,
   "id": "5226b095",
   "metadata": {},
   "outputs": [],
   "source": [
    "ventana=Tk()\n",
    "ventana.geometry(\"400x300\")\n",
    "ventana.title(\"Mi programa\")\n",
    "ventana.config(bg=\"#46b0f5\")\n",
    "\n",
    "Titulo=Label(ventana,text=\"NOMBRE DEL VIDEOJUEGO\",width=30)\n",
    "Titulo.place(x=100,y=10)\n",
    "Titulo.config(bg=\"#46b0f5\")"
   ]
  },
  {
   "cell_type": "code",
   "execution_count": 45,
   "id": "da5f3657",
   "metadata": {},
   "outputs": [],
   "source": [
    "def escribir_csv(data, path=\"./ejemplo\"):\n",
    "    with open(path, \"w\") as fil:\n",
    "        escritor = csv.writer(fil)\n",
    "        escritor.writerows(data)\n",
    "    print(\"File stored with success\")\n",
    "\n",
    "def leer_csv(path=\"./ejemplo.csv\"):\n",
    "    arreglo = []\n",
    "    with open(path) as archivo:\n",
    "        lector = csv.reader(archivo, delimiter=\",\", quotechar=\",\", quoting=csv.QUOTE_MINIMAL)\n",
    "        for renglon in lector:\n",
    "            if renglon != \"\":\n",
    "                arreglo.append(renglon)\n",
    "    return arreglo\n",
    "\n",
    "loadedData = leer_csv(path=\"fakeBd.csv\")"
   ]
  },
  {
   "cell_type": "code",
   "execution_count": 46,
   "id": "fe420665",
   "metadata": {},
   "outputs": [],
   "source": [
    "def inic_sesi():\n",
    "    for widget in ventana.winfo_children():\n",
    "        widget.destroy()\n",
    "        \n",
    "    ventana.title(\"Inicio de Sesión\")    \n",
    "    id_lab=Label(ventana,text=\"Usuario\",width=30)\n",
    "    id_lab.place(x=105,y=30)\n",
    "    id_lab.config(bg=\"#46b0f5\")\n",
    "    id=Entry()\n",
    "    id.place(x=150,y=45)\n",
    "    \n",
    "    pw_lab=Label(ventana,text=\"Contraseña\",width=30)\n",
    "    pw_lab.place(x=105,y=65)\n",
    "    pw_lab.config(bg=\"#46b0f5\")\n",
    "    password=Entry()\n",
    "    password.place(x=150,y=80)\n",
    "    \n",
    "    B1 = Button(ventana, text=\"Validar\", command=Val)\n",
    "    B1.place(x=150,y=150)\n",
    "    \n",
    "    \n",
    "    \n",
    "    \n",
    "    \n",
    "def new_user():\n",
    "    for widget in ventana.winfo_children():\n",
    "        widget.destroy()\n",
    "        \n",
    "    ventana.title(\"Registro de Usuario Nuevo\")\n",
    "    id_lab_reg=Label(ventana,text=\"Usuario\",width=30)\n",
    "    id_lab_reg.place(x=150,y=30)\n",
    "    id_lab_reg.config(bg=\"#46b0f5\")\n",
    "    id_reg=Entry()\n",
    "    id_reg.place(x=150,y=45)\n",
    "    \n",
    "    pw_lab_reg=Label(ventana,text=\"Contraseña\",width=15)\n",
    "    pw_lab_reg.place(x=150,y=65)\n",
    "    pw_lab_reg.config(bg=\"#46b0f5\")\n",
    "    password=Entry()\n",
    "    password.place(x=150,y=80)\n",
    "    \n",
    "    pw_lab_reg=Label(ventana,text=\"Confirmar Contraseña\",width=30)\n",
    "    pw_lab_reg.place(x=150,y=100)\n",
    "    pw_lab_reg.config(bg=\"#46b0f5\")\n",
    "    password_conf=Entry()\n",
    "    password_conf.place(x=150,y=115)\n",
    "    \n",
    "    \n",
    "def Val():\n",
    "    x = id.get()\n",
    "    y = password.get()\n",
    "    flag = False\n",
    "    for row in loadedData:\n",
    "        if(len(row) > 0):\n",
    "            if(row[0] == x):\n",
    "                print('Usuario encontrado')\n",
    "                flag = True\n",
    "                if(row[1] == y):\n",
    "                    mss.showinfo(message=\"Bienvenido \"+ x , title=\"Bienvenida\")\n",
    "                    ventana.config(bg=\"#1CA5D6\") # editar el background\n",
    "                    L1.config(bg=\"#1CA5D6\")\n",
    "                    L2.config(bg=\"#1CA5D6\")\n",
    "                else:\n",
    "                    mss.showwarning(message=\"Contraseña incorrecta\", title=\"Error\")\n",
    "                    ventana.config(bg=\"#D61C1F\") # editar el background\n",
    "                    L1.config(bg=\"#D61C1F\")\n",
    "                    L2.config(bg=\"#D61C1F\")\n",
    "    if flag == False:\n",
    "        ventana.config(bg=\"#D61C1F\") # editar el background\n",
    "        L1.config(bg=\"#D61C1F\")\n",
    "        L2.config(bg=\"#D61C1F\")\n",
    "        mss.showerror(message=\"Usuario no encontrado\", title=\"Error\")"
   ]
  },
  {
   "cell_type": "code",
   "execution_count": 47,
   "id": "31f73a2d",
   "metadata": {},
   "outputs": [],
   "source": [
    "#E1=Entry(ventana)\n",
    "#E1.place(x=10,y=25)\n",
    "\n",
    "login=Button(ventana,text=\"Iniciar Sesión\",height=1,width=15,command=inic_sesi)\n",
    "login.place(x=150,y=100)\n",
    "\n",
    "new_user_reg=Button(ventana,text=\"Usuario Nuevo\",height=1,width=15,command=new_user)\n",
    "new_user_reg.place(x=150,y=150)"
   ]
  },
  {
   "cell_type": "code",
   "execution_count": 48,
   "id": "6cfd932b",
   "metadata": {},
   "outputs": [
    {
     "data": {
      "text/plain": [
       "[<tkinter.Label object .!label>,\n",
       " <tkinter.Button object .!button>,\n",
       " <tkinter.Button object .!button2>]"
      ]
     },
     "execution_count": 48,
     "metadata": {},
     "output_type": "execute_result"
    }
   ],
   "source": [
    "ventana.winfo_children()"
   ]
  },
  {
   "cell_type": "code",
   "execution_count": 49,
   "id": "e809c00a",
   "metadata": {},
   "outputs": [
    {
     "name": "stderr",
     "output_type": "stream",
     "text": [
      "Exception in Tkinter callback\n",
      "Traceback (most recent call last):\n",
      "  File \"C:\\Users\\emili\\anaconda3\\lib\\tkinter\\__init__.py\", line 1892, in __call__\n",
      "    return self.func(*args)\n",
      "  File \"<ipython-input-46-1a49f5eff376>\", line 50, in Val\n",
      "    x = id.get()\n",
      "AttributeError: 'builtin_function_or_method' object has no attribute 'get'\n"
     ]
    }
   ],
   "source": [
    "ventana.mainloop()"
   ]
  },
  {
   "cell_type": "code",
   "execution_count": null,
   "id": "fa501534",
   "metadata": {},
   "outputs": [],
   "source": []
  },
  {
   "cell_type": "code",
   "execution_count": null,
   "id": "27865a21",
   "metadata": {},
   "outputs": [],
   "source": []
  }
 ],
 "metadata": {
  "kernelspec": {
   "display_name": "Python 3",
   "language": "python",
   "name": "python3"
  },
  "language_info": {
   "codemirror_mode": {
    "name": "ipython",
    "version": 3
   },
   "file_extension": ".py",
   "mimetype": "text/x-python",
   "name": "python",
   "nbconvert_exporter": "python",
   "pygments_lexer": "ipython3",
   "version": "3.8.8"
  }
 },
 "nbformat": 4,
 "nbformat_minor": 5
}
